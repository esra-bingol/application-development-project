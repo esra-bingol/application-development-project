{
 "cells": [
  {
   "cell_type": "code",
   "execution_count": 5,
   "id": "6dfb63fc-8efe-4ab0-b9ce-a2e2c4c09e89",
   "metadata": {},
   "outputs": [
    {
     "data": {
      "text/plain": [
       "(           Unnamed: 0 Work-related disease risk  \\\n",
       " 0 2025-04-23 14:25:54            Very Important   \n",
       " 1 2025-04-23 12:22:55                 Important   \n",
       " 2 2025-04-25 10:59:14               Unimportant   \n",
       " 3 2025-04-26 16:17:08                 Important   \n",
       " 4 2025-04-26 19:42:39            Very Important   \n",
       " \n",
       "   Risk of noise-induced hearing loss  \\\n",
       " 0                     Very Important   \n",
       " 1                          Important   \n",
       " 2                        Unimportant   \n",
       " 3  Neither important nor unimportant   \n",
       " 4                     Very Important   \n",
       " \n",
       "   Risks from natural disasters (e.g. earthquake, flood)  \\\n",
       " 0                                     Very Important      \n",
       " 1                  Neither important nor unimportant      \n",
       " 2                                        Unimportant      \n",
       " 3                                          Important      \n",
       " 4                                     Very Important      \n",
       " \n",
       "        Risk of exposure to chemicals Machinery and equipment safety risk  \\\n",
       " 0                     Very Important                      Very Important   \n",
       " 1                          Important   Neither important nor unimportant   \n",
       " 2  Neither important nor unimportant                         Unimportant   \n",
       " 3  Neither important nor unimportant   Neither important nor unimportant   \n",
       " 4                     Very Important                      Very Important   \n",
       " \n",
       "   Psychosocial risks (stress, mobbing, etc.) Risk of ergonomic inconvenience  \\\n",
       " 0                             Very Important                  Very Important   \n",
       " 1                                  Important                       Important   \n",
       " 2          Neither important nor unimportant                  Very Important   \n",
       " 3          Neither important nor unimportant                       Important   \n",
       " 4                             Very Important                  Very Important   \n",
       " \n",
       "            Risk of electrical hazard                Possibility of fire  \\\n",
       " 0                     Very Important                     Very Important   \n",
       " 1                          Important                          Important   \n",
       " 2  Neither important nor unimportant  Neither important nor unimportant   \n",
       " 3                          Important                     Very Important   \n",
       " 4                     Very Important                     Very Important   \n",
       " \n",
       "   Competence in the use of PPE (Personal Protective Equipment)  \\\n",
       " 0                                     Very Important             \n",
       " 1                                          Important             \n",
       " 2                                     Very Important             \n",
       " 3                                          Important             \n",
       " 4                                     Very Important             \n",
       " \n",
       "   The level of occupational health and safety training of employees  \\\n",
       " 0                                     Very Important                  \n",
       " 1                                          Important                  \n",
       " 2                  Neither important nor unimportant                  \n",
       " 3                  Neither important nor unimportant                  \n",
       " 4                                     Very Important                  \n",
       " \n",
       "   Identifying hazards in advance and keeping risk analyses up-to-date  \n",
       " 0                                     Very Important                   \n",
       " 1                                          Important                   \n",
       " 2                                          Important                   \n",
       " 3                                     Very Important                   \n",
       " 4                                     Very Important                   ,\n",
       "            Unnamed: 0  \\\n",
       " 0 2025-04-23 14:23:18   \n",
       " 1 2025-04-23 12:59:33   \n",
       " 2 2025-04-25 10:17:41   \n",
       " 3 2025-04-26 16:43:03   \n",
       " 4 2025-04-26 19:03:47   \n",
       " \n",
       "   Making active noise cancelling headphones mandatory in areas with high noise levels  \\\n",
       " 0                                               good                                    \n",
       " 1                                          very good                                    \n",
       " 2                                    very good, good                                    \n",
       " 3                                               good                                    \n",
       " 4                                               good                                    \n",
       " \n",
       "   Integrating behavioral safety training programs into on-the-job training  \\\n",
       " 0                                               good                         \n",
       " 1                                               good                         \n",
       " 2                                          very good                         \n",
       " 3                                          very good                         \n",
       " 4                                               good                         \n",
       " \n",
       "   Periodic health screenings for occupational diseases should be carried out twice a year.  \\\n",
       " 0                                          very good                                         \n",
       " 1                                           very bad                                         \n",
       " 2                                               good                                         \n",
       " 3                                          very good                                         \n",
       " 4                                               good                                         \n",
       " \n",
       "   Daily exposure monitoring for personnel working with hazardous chemicals  \\\n",
       " 0                                               good                         \n",
       " 1                                          very good                         \n",
       " 2                                          very good                         \n",
       " 3                                    very good, good                         \n",
       " 4                                               good                         \n",
       " \n",
       "   Establishing air-conditioned rest areas for employees exposed to high temperatures  \\\n",
       " 0                                          very good                                   \n",
       " 1                                                bad                                   \n",
       " 2                                               good                                   \n",
       " 3                                          very good                                   \n",
       " 4                                               good                                   \n",
       " \n",
       "   Mandatory safety briefings at the beginning of each shift  \\\n",
       " 0                                               good          \n",
       " 1                                                bad          \n",
       " 2                                                bad          \n",
       " 3                                          very good          \n",
       " 4                                               good          \n",
       " \n",
       "   Establishing a software system for instant tracking and analysis of accident/breakage reports in digital environment.  \\\n",
       " 0                                          very good                                                                      \n",
       " 1                                          very good                                                                      \n",
       " 2                                          very good                                                                      \n",
       " 3                                          very good                                                                      \n",
       " 4                                               good                                                                      \n",
       " \n",
       "   Organizing special high risk awareness workshops for new employees  \\\n",
       " 0                                               good                   \n",
       " 1                                          very good                   \n",
       " 2                                          very good                   \n",
       " 3                                          very good                   \n",
       " 4                                               good                   \n",
       " \n",
       "   Providing training to all employees once a year with OHS virtual reality (VR) simulation  \\\n",
       " 0                                          very good                                         \n",
       " 1                                          very good                                         \n",
       " 2                                          very good                                         \n",
       " 3                                          very good                                         \n",
       " 4                                               good                                         \n",
       " \n",
       "   Implementation of rotation system in jobs that carry the risk of occupational diseases  \\\n",
       " 0                                          very good                                       \n",
       " 1                                               good                                       \n",
       " 2                                          very good                                       \n",
       " 3                                          very good                                       \n",
       " 4                                               good                                       \n",
       " \n",
       "   Implementation of an employee reward system based on safety observations  \\\n",
       " 0                                               good                         \n",
       " 1                                          very good                         \n",
       " 2                                               good                         \n",
       " 3                                          very good                         \n",
       " 4                                               good                         \n",
       " \n",
       "   Warning signs placed in areas where work accidents frequently occur should be made illuminated and audible.  \n",
       " 0                                          very good                                                           \n",
       " 1                                                bad                                                           \n",
       " 2                                          very good                                                           \n",
       " 3                                          very good                                                           \n",
       " 4                                               good                                                           )"
      ]
     },
     "execution_count": 5,
     "metadata": {},
     "output_type": "execute_result"
    }
   ],
   "source": [
    "import pandas as pd\n",
    "\n",
    "df_kriter = pd.read_excel(\"data/Occupational_Risks_Analysis.xlsx\")\n",
    "df_alt = pd.read_excel(\"data/OHS_Improvement_Suggestions.xlsx\")\n",
    "\n",
    "df_kriter.head(), df_alt.head()\n"
   ]
  },
  {
   "cell_type": "code",
   "execution_count": 6,
   "id": "cddb9ac7-9571-48bc-a2d2-8b9e134bc133",
   "metadata": {},
   "outputs": [],
   "source": [
    "import numpy as np\n",
    "\n",
    "linguistic_to_pf = {\n",
    "    \"Very Important\": (0.9, 0.05, 0.05),\n",
    "    \"Important\": (0.75, 0.15, 0.10),\n",
    "    \"Neither important nor unimportant\": (0.5, 0.3, 0.2),\n",
    "    \"Unimportant\": (0.3, 0.5, 0.2),\n",
    "    \"Not Important at All\": (0.1, 0.8, 0.1)\n",
    "}\n",
    "\n",
    "def pf_score(pf):\n",
    "    return pf[0] - pf[1]\n",
    "\n",
    "\n",
    "def compute_criteria_weights(df):\n",
    "    scores = {}\n",
    "    for col in df.columns[1:]: \n",
    "        pf_list = df[col].map(linguistic_to_pf).dropna().tolist()\n",
    "        if pf_list:\n",
    "            avg_pf = tuple(np.mean([x[i] for x in pf_list]) for i in range(3))\n",
    "            scores[col] = pf_score(avg_pf)\n",
    "    total = sum(scores.values())\n",
    "    return {k: v / total for k, v in scores.items()} if total > 0 else {}\n"
   ]
  },
  {
   "cell_type": "code",
   "execution_count": 7,
   "id": "a780c2df-ae45-48f1-bd7f-fe56125ac188",
   "metadata": {},
   "outputs": [
    {
     "data": {
      "text/plain": [
       "{'Work-related disease risk': np.float64(0.07853982300884955),\n",
       " 'Risk of noise-induced hearing loss': np.float64(0.06969026548672566),\n",
       " 'Risks from natural disasters (e.g. earthquake, flood)': np.float64(0.06969026548672566),\n",
       " 'Risk of exposure to chemicals': np.float64(0.07853982300884955),\n",
       " 'Machinery and equipment safety risk': np.float64(0.06084070796460176),\n",
       " 'Psychosocial risks (stress, mobbing, etc.)': np.float64(0.07853982300884955),\n",
       " 'Risk of ergonomic inconvenience': np.float64(0.10176991150442478),\n",
       " 'Risk of electrical hazard': np.float64(0.08738938053097345),\n",
       " 'Possibility of fire': np.float64(0.09292035398230086),\n",
       " 'Competence in the use of PPE (Personal Protective Equipment)': np.float64(0.10176991150442478),\n",
       " 'The level of occupational health and safety training of employees': np.float64(0.07853982300884955),\n",
       " 'Identifying hazards in advance and keeping risk analyses up-to-date': np.float64(0.10176991150442478)}"
      ]
     },
     "execution_count": 7,
     "metadata": {},
     "output_type": "execute_result"
    }
   ],
   "source": [
    "weights = compute_criteria_weights(df_kriter)\n",
    "weights\n"
   ]
  },
  {
   "cell_type": "code",
   "execution_count": 8,
   "id": "b18026b5-72e2-4408-b3b0-0f8d67eedd1c",
   "metadata": {},
   "outputs": [],
   "source": [
    "\n",
    "def compute_alternative_scores(df, weights):\n",
    "    alt_scores = {}\n",
    "    for index, row in df.iterrows():\n",
    "        alt_name = row[0] \n",
    "        values = []\n",
    "        for i, col in enumerate(df.columns[1:]):\n",
    "            cell = str(row[col]).strip().title()\n",
    "            pf = linguistic_to_pf.get(cell, (0.5, 0.3, 0.2)) \n",
    "            s = pf_score(pf)\n",
    "            w = list(weights.values())[i] if i < len(weights) else 0\n",
    "            values.append(s * w)\n",
    "        alt_scores[alt_name] = sum(values)\n",
    "    return dict(sorted(alt_scores.items(), key=lambda item: item[1], reverse=True))\n"
   ]
  },
  {
   "cell_type": "code",
   "execution_count": 9,
   "id": "879ad186-a99d-4e90-9d6e-fde0acb82a80",
   "metadata": {},
   "outputs": [
    {
     "name": "stderr",
     "output_type": "stream",
     "text": [
      "/var/folders/tc/9f8gwqk17s1ftjm1fzxst5_c0000gn/T/ipykernel_79187/1737628023.py:4: FutureWarning: Series.__getitem__ treating keys as positions is deprecated. In a future version, integer keys will always be treated as labels (consistent with DataFrame behavior). To access a value by position, use `ser.iloc[pos]`\n",
      "  alt_name = row[0]\n"
     ]
    },
    {
     "data": {
      "text/plain": [
       "{Timestamp('2025-04-23 14:23:18'): np.float64(0.2),\n",
       " Timestamp('2025-04-23 12:59:33'): np.float64(0.2),\n",
       " Timestamp('2025-04-25 10:17:41'): np.float64(0.2),\n",
       " Timestamp('2025-04-26 16:43:03'): np.float64(0.2),\n",
       " Timestamp('2025-04-26 19:03:47'): np.float64(0.2),\n",
       " Timestamp('2025-04-28 23:08:55'): np.float64(0.2)}"
      ]
     },
     "execution_count": 9,
     "metadata": {},
     "output_type": "execute_result"
    }
   ],
   "source": [
    "alt_scores = compute_alternative_scores(df_alt, weights)\n",
    "alt_scores\n"
   ]
  },
  {
   "cell_type": "code",
   "execution_count": 10,
   "id": "dfd72599-378c-433b-ac0c-bac7bbd86622",
   "metadata": {},
   "outputs": [
    {
     "data": {
      "image/png": "[encoded data removed]",
      "text/plain": [
       "<Figure size 1000x600 with 1 Axes>"
      ]
     },
     "metadata": {},
     "output_type": "display_data"
    }
   ],
   "source": [
    "import matplotlib.pyplot as plt\n",
    "\n",
    "plt.figure(figsize=(10,6))\n",
    "plt.bar(alt_scores.keys(), alt_scores.values())\n",
    "plt.xticks(rotation=90)\n",
    "plt.title(\"Alternatif Çözümlerin PF-ARLON Skorları\")\n",
    "plt.ylabel(\"Skor\")\n",
    "plt.tight_layout()\n",
    "plt.show()\n"
   ]
  },
  {
   "cell_type": "code",
   "execution_count": null,
   "id": "3378460b-4bcf-4203-bcb4-7d9538413ad0",
   "metadata": {},
   "outputs": [],
   "source": []
  }
 ],
 "metadata": {
  "kernelspec": {
   "display_name": "Python 3 (ipykernel)",
   "language": "python",
   "name": "python3"
  },
  "language_info": {
   "codemirror_mode": {
    "name": "ipython",
    "version": 3
   },
   "file_extension": ".py",
   "mimetype": "text/x-python",
   "name": "python",
   "nbconvert_exporter": "python",
   "pygments_lexer": "ipython3",
   "version": "3.11.5"
  }
 },
 "nbformat": 4,
 "nbformat_minor": 5
}
