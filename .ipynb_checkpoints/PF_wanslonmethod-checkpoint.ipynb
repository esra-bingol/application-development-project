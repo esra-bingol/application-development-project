{
 "cells": [
  {
   "cell_type": "code",
   "execution_count": 1,
   "id": "18ead639-91d7-4126-84d6-8b634549f51b",
   "metadata": {},
   "outputs": [],
   "source": [
    "import pandas as pd\n",
    "\n",
    "def load_all_sheets(file_path):\n",
    "    xlsx = pd.ExcelFile(file_path)\n",
    "    data = {}\n",
    "    for sheet in xlsx.sheet_names:\n",
    "        df = xlsx.parse(sheet)\n",
    "        data[sheet.strip()] = df.dropna(how='all')\n",
    "    return data\n"
   ]
  },
  {
   "cell_type": "code",
   "execution_count": 2,
   "id": "d7860388-7d85-4237-b4e9-2ac053b13760",
   "metadata": {},
   "outputs": [],
   "source": [
    "all_data = load_all_sheets(\"Data/application ödevi.xlsx\")\n"
   ]
  },
  {
   "cell_type": "code",
   "execution_count": 3,
   "id": "1f185b9c-7269-48d4-a510-8a8fa362a57f",
   "metadata": {},
   "outputs": [],
   "source": [
    "def pf_score(pf):\n",
    "    \n",
    "    return pf[0] - pf[2]  # ρ - σ\n",
    "\n",
    "def compute_criteria_weights_from_pf(pf_dict):\n",
    "    scores = {}\n",
    "    for criterion, pf_values in pf_dict.items():\n",
    "        score = sum([pf_score(pf) for pf in pf_values]) / len(pf_values)\n",
    "        scores[criterion] = score\n",
    "    total = sum(scores.values())\n",
    "    return {k: v / total for k, v in scores.items()}\n"
   ]
  },
  {
   "cell_type": "code",
   "execution_count": 4,
   "id": "bae6cacf-1dc7-4304-93ea-de9e8cfbc6ad",
   "metadata": {},
   "outputs": [],
   "source": [
    "def compute_alternative_scores_pf(pf_matrix, weights):\n",
    "    alt_scores = {}\n",
    "    for alt_name, crit_values in pf_matrix.items():\n",
    "        score = 0\n",
    "        for crit, pf in crit_values.items():\n",
    "            w = weights.get(crit, 0)\n",
    "            score += pf_score(pf) * w\n",
    "        alt_scores[alt_name] = score\n",
    "    return dict(sorted(alt_scores.items(), key=lambda x: x[1], reverse=True))\n"
   ]
  },
  {
   "cell_type": "code",
   "execution_count": 5,
   "id": "44714916-f7e6-425e-8479-4796d3a544e0",
   "metadata": {},
   "outputs": [],
   "source": [
    "def extract_pf_matrix_from_df(df):\n",
    "    matrix = {}\n",
    "    for i, row in df.iterrows():\n",
    "        alt_name = row[0]\n",
    "        matrix[alt_name] = {}\n",
    "        for j in range(1, len(row), 3):\n",
    "            crit = df.columns[j].strip()\n",
    "            rho = row[j]\n",
    "            rho_bar = row[j+1]\n",
    "            sigma = row[j+2]\n",
    "            matrix[alt_name][crit] = (rho, rho_bar, sigma)\n",
    "    return matrix\n"
   ]
  },
  {
   "cell_type": "code",
   "execution_count": null,
   "id": "31b5cdf5-2404-4496-a1e6-64c8647dc37c",
   "metadata": {},
   "outputs": [],
   "source": []
  }
 ],
 "metadata": {
  "kernelspec": {
   "display_name": "Python 3 (ipykernel)",
   "language": "python",
   "name": "python3"
  },
  "language_info": {
   "codemirror_mode": {
    "name": "ipython",
    "version": 3
   },
   "file_extension": ".py",
   "mimetype": "text/x-python",
   "name": "python",
   "nbconvert_exporter": "python",
   "pygments_lexer": "ipython3",
   "version": "3.11.5"
  }
 },
 "nbformat": 4,
 "nbformat_minor": 5
}
